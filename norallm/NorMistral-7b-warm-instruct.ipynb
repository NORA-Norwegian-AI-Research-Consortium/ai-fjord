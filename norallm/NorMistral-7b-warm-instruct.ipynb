{
 "cells": [
  {
   "cell_type": "markdown",
   "metadata": {},
   "source": [
    "# <a id='toc1_'></a>[NorMistral-7b-warm-instruct](#toc0_)\n",
    "- Description: NorMistral-7b-warm-instruct is a large Norwegian language model initialized from Mistral-7b-v0.1 and continuously pretrained on a total of 260 billion subword tokens (using six repetitions of open Norwegian texts). [Read more here...](https://huggingface.co/norallm/normistral-7b-warm-instruct)\n",
    "- Model Developers: Language Technology Group at the University of Oslo.\n",
    "- Model Architecture: NorMistral is an auto-regressive language model that uses an optimized transformer architecture based on the Mistral/Llama language models.\n",
    "- License: [apache-2.0](https://huggingface.co/datasets/choosealicense/licenses/blob/main/markdown/apache-2.0.md)\n",
    "- Code Repository: [GitHub](norallm/NorMistral-7b-warm-instruct.ipynb)"
   ]
  },
  {
   "cell_type": "markdown",
   "metadata": {},
   "source": [
    "**Table of contents**<a id='toc0_'></a>    \n",
    "- [NorMistral-7b-warm-instruct](#toc1_)    \n",
    "  - [Install libraries](#toc1_1_)    \n",
    "  - [Load libraries](#toc1_2_)    \n",
    "  - [Load tokenizer and model](#toc1_3_)    \n",
    "  - [Generate parameters](#toc1_4_)    \n",
    "  - [Generate text](#toc1_5_)    \n",
    "\n",
    "<!-- vscode-jupyter-toc-config\n",
    "\tnumbering=false\n",
    "\tanchor=true\n",
    "\tflat=false\n",
    "\tminLevel=1\n",
    "\tmaxLevel=6\n",
    "\t/vscode-jupyter-toc-config -->\n",
    "<!-- THIS CELL WILL BE REPLACED ON TOC UPDATE. DO NOT WRITE YOUR TEXT IN THIS CELL -->"
   ]
  },
  {
   "cell_type": "markdown",
   "metadata": {},
   "source": [
    "## <a id='toc1_1_'></a>[Install libraries](#toc0_)"
   ]
  },
  {
   "cell_type": "code",
   "execution_count": null,
   "metadata": {},
   "outputs": [],
   "source": [
    "!pip install transformers bitsandbytes accelerate datasets torch --upgrade"
   ]
  },
  {
   "cell_type": "markdown",
   "metadata": {},
   "source": [
    "## <a id='toc1_2_'></a>[Load libraries](#toc0_)"
   ]
  },
  {
   "cell_type": "code",
   "execution_count": null,
   "metadata": {},
   "outputs": [],
   "source": [
    "from transformers import AutoTokenizer, AutoModelForCausalLM"
   ]
  },
  {
   "cell_type": "markdown",
   "metadata": {},
   "source": [
    "## <a id='toc1_3_'></a>[Load tokenizer and model](#toc0_)"
   ]
  },
  {
   "cell_type": "code",
   "execution_count": null,
   "metadata": {},
   "outputs": [],
   "source": [
    "tokenizer = AutoTokenizer.from_pretrained(\"norallm/normistral-7b-warm-instruct\")\n",
    "model = AutoModelForCausalLM.from_pretrained(\"norallm/normistral-7b-warm-instruct\", torch_dtype=torch.bfloat16)"
   ]
  },
  {
   "cell_type": "markdown",
   "metadata": {},
   "source": [
    "## <a id='toc1_4_'></a>[Generate parameters](#toc0_)"
   ]
  },
  {
   "cell_type": "code",
   "execution_count": null,
   "metadata": {},
   "outputs": [],
   "source": [
    "messages = [\n",
    "    {\"role\": \"user\", \"content\": \"Hva er hovedstaden i Norge?\"},\n",
    "    {\"role\": \"assistant\", \"content\": \"Hovedstaden i Norge er Oslo. Denne byen ligger i den sørøstlige delen av landet, ved Oslofjorden. Oslo er en av de raskest voksende byene i Europa, og den er kjent for sin rike historie, kultur og moderne arkitektur. Noen populære turistattraksjoner i Oslo inkluderer Vigelandsparken, som viser mer enn 200 skulpturer laget av den berømte norske skulptøren Gustav Vigeland, og det kongelige slott, som er den offisielle residensen til Norges kongefamilie. Oslo er også hjemsted for mange museer, gallerier og teatre, samt mange restauranter og barer som tilbyr et bredt utvalg av kulinariske og kulturelle opplevelser.\"},\n",
    "    {\"role\": \"user\", \"content\": \"Gi meg en liste over de beste stedene å besøke i hovedstaden\"}\n",
    "]\n",
    "\n",
    "gen_input = tokenizer.apply_chat_template(messages, add_generation_prompt=True, return_tensors=\"pt\")"
   ]
  },
  {
   "cell_type": "markdown",
   "metadata": {},
   "source": [
    "## <a id='toc1_5_'></a>[Generate text](#toc0_)"
   ]
  },
  {
   "cell_type": "code",
   "execution_count": null,
   "metadata": {},
   "outputs": [],
   "source": [
    "model.generate(\n",
    "    gen_input,\n",
    "    max_new_tokens=1024,\n",
    "    top_k=64,  # top-k sampling\n",
    "    top_p=0.9,  # nucleus sampling\n",
    "    temperature=0.3,  # a low temparature to make the outputs less chaotic\n",
    "    repetition_penalty=1.0,  # turn the repetition penalty off, having it on can lead to very bad outputs\n",
    "    do_sample=True,  # randomly sample the outputs\n",
    "    use_cache=True  # speed-up generation\n",
    ")"
   ]
  }
 ],
 "metadata": {
  "language_info": {
   "name": "python"
  }
 },
 "nbformat": 4,
 "nbformat_minor": 2
}
